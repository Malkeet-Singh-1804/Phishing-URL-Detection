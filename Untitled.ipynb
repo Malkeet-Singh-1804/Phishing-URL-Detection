{
 "cells": [
  {
   "cell_type": "code",
   "execution_count": 1,
   "id": "83219dc8-daf1-490b-a927-24cd4b2fbcb8",
   "metadata": {},
   "outputs": [],
   "source": [
    "import tkinter as tk\n",
    "def button_click(item):\n",
    "    current = entry.get()\n",
    "    entry.delete(0, tk.END)\n",
    "    entry.insert(0, current + str(item))\n",
    "def clear():\n",
    "    entry.delete(0, tk.END)\n",
    "def calculate():\n",
    "    try:\n",
    "        result = eval(entry.get())\n",
    "        entry.delete(0, tk.END)\n",
    "        entry.insert(0, str(result))\n",
    "    except Exception as e:\n",
    "        entry.delete(0, tk.END)\n",
    "        entry.insert(0, \"Error\")\n",
    "root = tk.Tk()\n",
    "root.title(\"Calculator\")\n",
    "entry = tk.Entry(root, width=20, font=('Arial', 18), borderwidth=5, relief='ridge')\n",
    "entry.grid(row=0, column=0, columnspan=4, pady=10)\n",
    "buttons = [\n",
    "    ('7', 1, 0), ('8', 1, 1), ('9', 1, 2), ('/', 1, 3),\n",
    "    ('4', 2, 0), ('5', 2, 1), ('6', 2, 2), ('*', 2, 3),\n",
    "    ('1', 3, 0), ('2', 3, 1), ('3', 3, 2), ('-', 3, 3),\n",
    "    ('0', 4, 0), ('.', 4, 1), ('=', 4, 2), ('+', 4, 3),\n",
    "]\n",
    "for (text, row, col) in buttons:\n",
    "    if text == '=':\n",
    "        button = tk.Button(root, text=text, width=5, height=2, font=('Arial', 18),\n",
    "                           command=calculate)\n",
    "    else:\n",
    "        button = tk.Button(root, text=text, width=5, height=2, font=('Arial', 18),\n",
    "                           command=lambda t=text: button_click(t))\n",
    "    button.grid(row=row, column=col, padx=5, pady=5)\n",
    "clear_button = tk.Button(root, text='C', width=22, height=2, font=('Arial', 18), command=clear)\n",
    "clear_button.grid(row=5, column=0, columnspan=4, padx=5, pady=5)\n",
    "root.mainloop()\n"
   ]
  },
  {
   "cell_type": "code",
   "execution_count": null,
   "id": "471fb453-9a56-4f1c-9507-29f0e27754fe",
   "metadata": {},
   "outputs": [],
   "source": []
  }
 ],
 "metadata": {
  "kernelspec": {
   "display_name": "Python 3 (ipykernel)",
   "language": "python",
   "name": "python3"
  },
  "language_info": {
   "codemirror_mode": {
    "name": "ipython",
    "version": 3
   },
   "file_extension": ".py",
   "mimetype": "text/x-python",
   "name": "python",
   "nbconvert_exporter": "python",
   "pygments_lexer": "ipython3",
   "version": "3.12.4"
  }
 },
 "nbformat": 4,
 "nbformat_minor": 5
}
